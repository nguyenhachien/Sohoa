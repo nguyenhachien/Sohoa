{
 "cells": [
  {
   "cell_type": "code",
   "execution_count": null,
   "metadata": {},
   "outputs": [
    {
     "name": "stdout",
     "output_type": "stream",
     "text": [
      "99 99 99\n",
      "99 99 99\n",
      "99 99 99\n",
      "\n",
      "99 99 99\n",
      "99 X 99\n",
      "99 99 99\n",
      "\n",
      "Invalid input! Indices must be between 0 and 2.\n",
      "99 99 99\n",
      "99 X 99\n",
      "99 99 99\n",
      "\n",
      "99 99 99\n",
      "99 X O\n",
      "99 99 99\n",
      "\n",
      "99 99 99\n",
      "99 X O\n",
      "99 X 99\n",
      "\n"
     ]
    }
   ],
   "source": [
    "def print_board(board):\n",
    "    for row in board:\n",
    "        print(\" \".join(str(cell) if cell != 0 and cell != 1 else (\"X\" if cell == 1 else \"O\") for cell in row))\n",
    "    print()\n",
    "\n",
    "def is_valid_move(board, x, y):\n",
    "    return board[x][y] == 99\n",
    "\n",
    "def play_game():\n",
    "    board = [\n",
    "        [99, 99, 99],\n",
    "        [99, 99, 99],\n",
    "        [99, 99, 99]\n",
    "    ]\n",
    "    \n",
    "    turn = 1  # X goes first (1 for X, 0 for O)\n",
    "    \n",
    "    while True:\n",
    "        print_board(board)\n",
    "        player = \"X\" if turn == 1 else \"O\"\n",
    "        try:\n",
    "            x, y = map(int, input(f\"{player}'s turn. Enter row and column (0-2, space-separated): \").split())\n",
    "            \n",
    "            if 0 <= x < 3 and 0 <= y < 3:\n",
    "                if is_valid_move(board, x, y):\n",
    "                    board[x][y] = turn\n",
    "                    turn = 1 - turn  # Switch turn\n",
    "                else:\n",
    "                    print(\"Invalid move! Cell already occupied. Try again.\")\n",
    "            else:\n",
    "                print(\"Invalid input! Indices must be between 0 and 2.\")\n",
    "        except ValueError:\n",
    "            print(\"Invalid input! Please enter two integers separated by space.\")\n",
    "\n",
    "if __name__ == \"__main__\":\n",
    "    play_game()"
   ]
  }
 ],
 "metadata": {
  "kernelspec": {
   "display_name": "Python 3",
   "language": "python",
   "name": "python3"
  },
  "language_info": {
   "codemirror_mode": {
    "name": "ipython",
    "version": 3
   },
   "file_extension": ".py",
   "mimetype": "text/x-python",
   "name": "python",
   "nbconvert_exporter": "python",
   "pygments_lexer": "ipython3",
   "version": "3.11.9"
  }
 },
 "nbformat": 4,
 "nbformat_minor": 2
}
