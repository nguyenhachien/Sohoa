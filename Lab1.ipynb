{
 "cells": [
  {
   "cell_type": "markdown",
   "metadata": {},
   "source": [
    "### PHẦN 1. NUMPY CƠ BẢN\n",
    "## Bài tập 1. Tạo mảng và thao tác cơ bản"
   ]
  },
  {
   "cell_type": "markdown",
   "metadata": {},
   "source": [
    "## 1. tạo 1 mảng Numpy với các giá trị từ 1 đến 20"
   ]
  },
  {
   "cell_type": "code",
   "execution_count": 1,
   "metadata": {},
   "outputs": [
    {
     "name": "stdout",
     "output_type": "stream",
     "text": [
      "[ 1  2  3  4  5  6  7  8  9 10 11 12 13 14 15 16 17 18 19 20]\n"
     ]
    }
   ],
   "source": [
    "import numpy as np\n",
    "mang=np.array([1,2,3,4,5,6,7,8,9,10,11,12,13,14,15,16,17,18,19,20])\n",
    "print(mang)"
   ]
  },
  {
   "cell_type": "markdown",
   "metadata": {},
   "source": [
    "## 2. Tìm tổng, giá trị lớn nhất, nhỏ nhất, trung bình"
   ]
  },
  {
   "cell_type": "code",
   "execution_count": 2,
   "metadata": {},
   "outputs": [
    {
     "name": "stdout",
     "output_type": "stream",
     "text": [
      "210\n",
      "20\n",
      "1\n",
      "10.5\n"
     ]
    }
   ],
   "source": [
    "print(mang.sum())\n",
    "#Tìm giá trị lớn nhất\n",
    "print(mang.max())\n",
    "#Tìm giá trị nhỏ nhất\n",
    "print(mang.min())\n",
    "print(mang.mean())"
   ]
  },
  {
   "cell_type": "code",
   "execution_count": null,
   "metadata": {},
   "outputs": [
    {
     "name": "stdout",
     "output_type": "stream",
     "text": [
      "[[70 14 59 33  8]\n",
      " [35 74 12 84 97]\n",
      " [81 56 43 21 92]]\n",
      "12\n"
     ]
    }
   ],
   "source": [
    "# 3.Tạo một mảng 2D(3x5) chua cac so ngau nhien tu 0 den 100\n",
    "mang_2d=np.random.randint(0,101,[3,5])\n",
    "print(mang_2d)\n",
    "# 4.Lấy hàng thứ 2 cột thứ 3 của mảng 2D\n",
    "print(mang_2d[1,2])\n"
   ]
  },
  {
   "cell_type": "markdown",
   "metadata": {},
   "source": [
    "## Bài tập 2. Các thao tác nâng cao"
   ]
  },
  {
   "cell_type": "code",
   "execution_count": 1,
   "metadata": {},
   "outputs": [
    {
     "name": "stdout",
     "output_type": "stream",
     "text": [
      "Mảng ngẫu nhiên: [0.87673442 0.76628419 0.96057593 0.72946831 0.09455801 0.48916971\n",
      " 0.6161173  0.94771236 0.17305185 0.04509678 0.28676276 0.2877792\n",
      " 0.74955383 0.352171   0.15541664 0.4753652  0.2362323  0.19773893\n",
      " 0.15759912 0.29352054]\n",
      "Mảng sau khi chuẩn hóa: [0.9084179  0.78777044 1.         0.74755557 0.05402769 0.48507159\n",
      " 0.62373952 0.98594881 0.13976842 0.         0.2639776  0.26508788\n",
      " 0.76949547 0.33542459 0.12050506 0.4699926  0.20878195 0.16673471\n",
      " 0.12288903 0.27135928]\n",
      "Tích vô hướng của hai mảng: 32\n",
      "Ma trận 5x5:\n",
      " [[0.00316702 0.3535462  0.91186492 0.52881362 0.09948937]\n",
      " [0.5782862  0.46855652 0.59256475 0.87691059 0.60979221]\n",
      " [0.14020276 0.27729057 0.19812115 0.04823603 0.24833761]\n",
      " [0.38711792 0.1487817  0.41814783 0.4563936  0.53457495]\n",
      " [0.85653192 0.32590043 0.64161416 0.49896835 0.18389247]]\n",
      "Định thức của ma trận: 0.033270678142189765\n",
      "Nghịch đảo của ma trận:\n",
      " [[-0.7691865  -0.39174368 -0.05502925  0.14079444  1.38020216]\n",
      " [-0.14184514  1.65839697  2.86898787 -3.13975499 -0.16971167]\n",
      " [ 1.17301248 -1.82953271  0.17398763  1.62718656  0.46696677]\n",
      " [ 0.03356016  2.15945657 -2.44164069 -1.14997933 -0.53866976]\n",
      " [-0.34969733 -0.59044132  1.18981731  2.35153689 -0.8576285 ]]\n"
     ]
    }
   ],
   "source": [
    "import numpy as np\n",
    "# Tạo 1 mảng Numpy chua 20 giá trị đầu tiên ngẫu nhiên từ 0 đến 1\n",
    "arr = np.random.rand(20)\n",
    "print(\"Mảng ngẫu nhiên:\", arr)\n",
    "# Chuẩn hóa mảng này (đưa các giá trị về khoảng [0, 1])\n",
    "arr_min = arr.min()\n",
    "arr_max = arr.max()\n",
    "normalized_arr = (arr - arr_min) / (arr_max - arr_min)\n",
    "print(\"Mảng sau khi chuẩn hóa:\", normalized_arr)\n",
    "# 3 Tính tích vô hướng (dot product) của hai mảng 1D: [1, 2, 3] và [4, 5,6].\n",
    "a = np.array([1, 2, 3])\n",
    "b = np.array([4, 5, 6])\n",
    "dot_product = np.dot(a, b)\n",
    "print(\"Tích vô hướng của hai mảng:\", dot_product)\n",
    "# 4 Tạo một ma trận 5x5 và tính định thức (determinant) và nghịch đảo của ma trận. \n",
    "matrix = np.random.rand(5, 5)\n",
    "determinant = np.linalg.det(matrix)\n",
    "inverse_matrix = np.linalg.inv(matrix)\n",
    "print(\"Ma trận 5x5:\\n\", matrix)\n",
    "print(\"Định thức của ma trận:\", determinant)\n",
    "print(\"Nghịch đảo của ma trận:\\n\", inverse_matrix)"
   ]
  },
  {
   "cell_type": "markdown",
   "metadata": {},
   "source": [
    "## PHẦN 2. PANDAS CƠ BẢN"
   ]
  },
  {
   "cell_type": "markdown",
   "metadata": {},
   "source": [
    "## Bài tập 3. Tạo 1 dataframe chứa các thông tin như sau:"
   ]
  },
  {
   "cell_type": "code",
   "execution_count": 6,
   "metadata": {},
   "outputs": [
    {
     "name": "stdout",
     "output_type": "stream",
     "text": [
      "      Name  Age  Score\n",
      "0    Alice   23     85\n",
      "1      Bob   25     90\n",
      "2  Charlie   22     78\n",
      "3    David   24     92\n",
      "4      Eva   24     92\n"
     ]
    },
    {
     "data": {
      "text/html": [
       "<div>\n",
       "<style scoped>\n",
       "    .dataframe tbody tr th:only-of-type {\n",
       "        vertical-align: middle;\n",
       "    }\n",
       "\n",
       "    .dataframe tbody tr th {\n",
       "        vertical-align: top;\n",
       "    }\n",
       "\n",
       "    .dataframe thead th {\n",
       "        text-align: right;\n",
       "    }\n",
       "</style>\n",
       "<table border=\"1\" class=\"dataframe\">\n",
       "  <thead>\n",
       "    <tr style=\"text-align: right;\">\n",
       "      <th></th>\n",
       "      <th>Name</th>\n",
       "      <th>Age</th>\n",
       "      <th>Score</th>\n",
       "    </tr>\n",
       "  </thead>\n",
       "  <tbody>\n",
       "    <tr>\n",
       "      <th>1</th>\n",
       "      <td>Bob</td>\n",
       "      <td>25</td>\n",
       "      <td>90</td>\n",
       "    </tr>\n",
       "    <tr>\n",
       "      <th>3</th>\n",
       "      <td>David</td>\n",
       "      <td>24</td>\n",
       "      <td>92</td>\n",
       "    </tr>\n",
       "    <tr>\n",
       "      <th>4</th>\n",
       "      <td>Eva</td>\n",
       "      <td>24</td>\n",
       "      <td>92</td>\n",
       "    </tr>\n",
       "  </tbody>\n",
       "</table>\n",
       "</div>"
      ],
      "text/plain": [
       "    Name  Age  Score\n",
       "1    Bob   25     90\n",
       "3  David   24     92\n",
       "4    Eva   24     92"
      ]
     },
     "execution_count": 6,
     "metadata": {},
     "output_type": "execute_result"
    }
   ],
   "source": [
    "import pandas as pd\n",
    "data=[['Alice',23,85],['Bob',25,90],['Charlie',22,78],['David',24,92],['Eva',24,92]]\n",
    "df1=pd.DataFrame(data,columns=['Name','Age','Score'])\n",
    "print(df1)\n",
    "#Tính giá trị trung bình của cột Score\n",
    "df1['Score'].mean()\n",
    "#Lọc các hàng có Score lớn hơn 85\n",
    "df1[df1['Score']>85]"
   ]
  },
  {
   "cell_type": "markdown",
   "metadata": {},
   "source": [
    "## Phần 3: Làm sạch dữ liệu"
   ]
  },
  {
   "cell_type": "markdown",
   "metadata": {},
   "source": [
    "### Bài tập 5. xử lý dữ liệu thiếu"
   ]
  },
  {
   "cell_type": "code",
   "execution_count": 6,
   "metadata": {},
   "outputs": [
    {
     "name": "stdout",
     "output_type": "stream",
     "text": [
      "      Name   Age      City   Salary\n",
      "0    Alice  23.0  New York  60000.0\n",
      "1      Bob   NaN   Bostron  52000.0\n",
      "2  Charlie  25.0      None      NaN\n",
      "3    David  24.0   Chicago  58000.0\n",
      "4      Eva  22.0    Boston      NaN\n"
     ]
    },
    {
     "data": {
      "text/plain": [
       "0    60000.0\n",
       "1    52000.0\n",
       "2    50000.0\n",
       "3    58000.0\n",
       "4    50000.0\n",
       "Name: Salary, dtype: float64"
      ]
     },
     "execution_count": 6,
     "metadata": {},
     "output_type": "execute_result"
    }
   ],
   "source": [
    "import pandas as pd\n",
    "data=[['Alice',23,\"New York\",60000],['Bob',None,'Bostron',52000],['Charlie',25,None,None],['David',24,'Chicago',58000],['Eva',22,'Boston']]\n",
    "df1=pd.DataFrame(data,columns=['Name','Age','City','Salary'])\n",
    "print(df1)\n",
    "#2. Điền giá trị thiếu trong cột Age bằng giá trị trung bình\n",
    "mean_age=df1[\"Age\"].mean()\n",
    "df1[\"Age\"].fillna(mean_age.mean())\n",
    "#3. Xóa các hàng có nhiều giá trị thiếu\n",
    "df1.dropna()\n",
    "#Điền các giá trị thiếu trong Salary bằng 50000\n",
    "df1['Salary'].fillna(50000)"
   ]
  },
  {
   "cell_type": "markdown",
   "metadata": {},
   "source": [
    "## Bài tập 6: Biểu đồ cơ bản"
   ]
  },
  {
   "cell_type": "code",
   "execution_count": null,
   "metadata": {},
   "outputs": [
    {
     "data": {
      "image/png": "[encoded data removed]",
      "text/plain": [
       "<Figure size 640x480 with 1 Axes>"
      ]
     },
     "metadata": {},
     "output_type": "display_data"
    }
   ],
   "source": [
    "# 1.Tạo một biểu đồ đường biểu diễn hàm số y = x ** 2 trên khoảng [-10,10]\n",
    "import matplotlib.pyplot as plt\n",
    "import numpy as np\n",
    "x=np.linspace(-10,10,400)\n",
    "y = x ** 2\n",
    "\n",
    "## Vẽ biểu đồ\n",
    "plt.plot(x, y, label=r'$y = x^2$', color='b')\n",
    "\n",
    "## Thiết lập tiêu đề và nhãn\n",
    "plt.title(\"Biểu đồ hàm số y = x^2\")\n",
    "plt.xlabel(\"x\")\n",
    "plt.ylabel(\"y\")\n",
    "\n",
    "## Hiển thị lưới và chú thích\n",
    "plt.grid(True)\n",
    "plt.legend()\n",
    "\n",
    "## Hiển thị biểu đồ\n",
    "plt.show()"
   ]
  },
  {
   "cell_type": "code",
   "execution_count": null,
   "metadata": {},
   "outputs": [
    {
     "data": {
      "image/png": "[encoded data removed]",
      "text/plain": [
       "<Figure size 640x480 with 1 Axes>"
      ]
     },
     "metadata": {},
     "output_type": "display_data"
    }
   ],
   "source": [
    "# 2. Vẽ biểu đồ cột thể hiện điểm số (Score) của các sinh viên từ Bài tập 3.\n",
    "import matplotlib.pyplot as plt\n",
    "names = [\"Alice\", \"Bob\", \"Charlie\", \"David\", \"Eva\"]\n",
    "scores = [85, 90, 78, 92, 92]\n",
    "plt.bar(names, scores, color='skyblue')\n",
    "plt.title(\"Biểu đồ điểm số của sinh viên\")\n",
    "plt.xlabel(\"Tên sinh viên\")\n",
    "plt.ylabel(\"Điểm số\")\n",
    "plt.show()"
   ]
  }
 ],
 "metadata": {
  "kernelspec": {
   "display_name": "Python 3",
   "language": "python",
   "name": "python3"
  },
  "language_info": {
   "codemirror_mode": {
    "name": "ipython",
    "version": 3
   },
   "file_extension": ".py",
   "mimetype": "text/x-python",
   "name": "python",
   "nbconvert_exporter": "python",
   "pygments_lexer": "ipython3",
   "version": "3.11.9"
  }
 },
 "nbformat": 4,
 "nbformat_minor": 2
}
