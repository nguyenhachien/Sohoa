{
  "nbformat": 4,
  "nbformat_minor": 0,
  "metadata": {
    "colab": {
      "provenance": []
    },
    "kernelspec": {
      "name": "python3",
      "display_name": "Python 3"
    },
    "language_info": {
      "name": "python"
    }
  },
  "cells": [
    {
      "cell_type": "markdown",
      "source": [
        "## Phần 1: Thay đổi cấu trúc ANN\n",
        "### Yêu cầu\n",
        "1. **Tăng số nút trong lớp ẩn**:  \n",
        "   - Sửa lớp ẩn từ 4 nút thành 8 nút trong code định nghĩa `ANN`.  \n",
        "   - Huấn luyện lại mô hình với cùng dữ liệu `X_train`, `y_train` từ lab (100 epochs).  \n",
        "   - Ghi lại giá trị mất mát cuối cùng (`loss`) và độ chính xác trên tập kiểm tra (`X_test`, `y_test`).  \n",
        "\n",
        "2. **Thêm một lớp ẩn**:  \n",
        "   - Thêm một lớp ẩn thứ hai với 6 nút, dùng ReLU làm hàm kích hoạt. Cấu trúc mới:  \n",
        "     - Đầu vào: 2 nút.  \n",
        "     - Lớp ẩn 1: 8 nút (ReLU).  \n",
        "     - Lớp ẩn 2: 6 nút (ReLU).  \n",
        "     - Đầu ra: 1 nút (Sigmoid).  \n",
        "   - Huấn luyện lại mô hình (100 epochs).  \n",
        "   - Ghi lại giá trị mất mát cuối cùng và độ chính xác.\n",
        "\n",
        "3. **Câu hỏi**:  \n",
        "   - So sánh kết quả của 3 mô hình (4 nút, 8 nút, 8+6 nút):  \n",
        "     - Mất mát cuối cùng thay đổi thế nào?  \n",
        "     - Độ chính xác có cải thiện không? Tại sao bạn nghĩ vậy?  \n",
        "   - Viết câu trả lời trong ô Markdown."
      ],
      "metadata": {
        "id": "g6Ael9V08xEr"
      }
    },
    {
      "cell_type": "code",
      "execution_count": 25,
      "metadata": {
        "colab": {
          "base_uri": "https://localhost:8080/"
        },
        "id": "hwa-uCC-36cK",
        "outputId": "412df399-d81e-4a00-b1c0-c325714338d6"
      },
      "outputs": [
        {
          "output_type": "stream",
          "name": "stdout",
          "text": [
            "Epoch [20/100], Loss: 0.5520\n",
            "Epoch [40/100], Loss: 0.3476\n",
            "Epoch [60/100], Loss: 0.1810\n",
            "Epoch [80/100], Loss: 0.1062\n",
            "Epoch [100/100], Loss: 0.0752\n",
            "Loss cuối cùng: 0.0752\n",
            "Độ chính xác trên tập kiểm tra: 1.0000\n"
          ]
        }
      ],
      "source": [
        "import numpy as np\n",
        "import torch\n",
        "import torch.nn as nn\n",
        "import torch.optim as optim\n",
        "from sklearn.model_selection import train_test_split\n",
        "from sklearn.metrics import accuracy_score\n",
        "import matplotlib.pyplot as plt\n",
        "\n",
        "# Giả lập dữ liệu ngẫu nhiên\n",
        "np.random.seed(42)\n",
        "X = np.random.rand(1000, 2)\n",
        "y = (X[:, 0] + X[:, 1] > 1).astype(np.float32).reshape(-1, 1)\n",
        "\n",
        "# Chia dữ liệu thành tập huấn luyện và tập kiểm tra\n",
        "X_train, X_test, y_train, y_test = train_test_split(X, y, test_size=0.2, random_state=42)\n",
        "\n",
        "# Chuyển đổi sang tensor\n",
        "X_train = torch.tensor(X_train, dtype=torch.float32)\n",
        "y_train = torch.tensor(y_train, dtype=torch.float32)\n",
        "X_test = torch.tensor(X_test, dtype=torch.float32)\n",
        "y_test = torch.tensor(y_test, dtype=torch.float32)\n",
        "\n",
        "# Định nghĩa mô hình ANN với 2 lớp ẩn\n",
        "class ANN(nn.Module):\n",
        "    def __init__(self):\n",
        "        super(ANN, self).__init__()\n",
        "        self.layer1 = nn.Linear(2, 8)  # Lớp ẩn 1 (8 nút)\n",
        "        self.relu1 = nn.ReLU()\n",
        "        self.layer2 = nn.Linear(8, 6)  # Lớp ẩn 2 (6 nút)\n",
        "        self.relu2 = nn.ReLU()\n",
        "        self.layer3 = nn.Linear(6, 1)  # Lớp đầu ra (1 nút)\n",
        "        self.sigmoid = nn.Sigmoid()\n",
        "\n",
        "    def forward(self, x):\n",
        "        x = self.layer1(x)\n",
        "        x = self.relu1(x)\n",
        "        x = self.layer2(x)\n",
        "        x = self.relu2(x)\n",
        "        x = self.layer3(x)\n",
        "        x = self.sigmoid(x)\n",
        "        return x\n",
        "\n",
        "# Khởi tạo mô hình\n",
        "model = ANN()\n",
        "\n",
        "# Định nghĩa hàm mất mát và bộ tối ưu hóa\n",
        "criterion = nn.BCELoss()\n",
        "optimizer = optim.Adam(model.parameters(), lr=0.01)\n",
        "\n",
        "# Huấn luyện mô hình\n",
        "epochs = 100\n",
        "losses = []\n",
        "for epoch in range(epochs):\n",
        "    model.train()\n",
        "    optimizer.zero_grad()\n",
        "    outputs = model(X_train)\n",
        "    loss = criterion(outputs, y_train)\n",
        "    loss.backward()\n",
        "    optimizer.step()\n",
        "    losses.append(loss.item())\n",
        "\n",
        "    if (epoch + 1) % 20 == 0:\n",
        "        print(f\"Epoch [{epoch+1}/{epochs}], Loss: {loss.item():.4f}\")\n",
        "\n",
        "# Đánh giá mô hình trên tập kiểm tra\n",
        "model.eval()\n",
        "with torch.no_grad():\n",
        "    y_pred = model(X_test)\n",
        "    y_pred_class = (y_pred >= 0.5).float()\n",
        "    accuracy = accuracy_score(y_test, y_pred_class)\n",
        "    print(f\"Loss cuối cùng: {loss.item():.4f}\")\n",
        "    print(f\"Độ chính xác trên tập kiểm tra: {accuracy:.4f}\")\n"
      ]
    },
    {
      "cell_type": "code",
      "source": [
        "import numpy as np\n",
        "import torch\n",
        "import torch.nn as nn\n",
        "import torch.optim as optim\n",
        "from sklearn.model_selection import train_test_split\n",
        "from sklearn.metrics import accuracy_score\n",
        "import matplotlib.pyplot as plt\n",
        "\n",
        "# Giả lập dữ liệu ngẫu nhiên\n",
        "np.random.seed(42)\n",
        "X = np.random.rand(1000, 2)\n",
        "y = (X[:, 0] + X[:, 1] > 1).astype(np.float32).reshape(-1, 1)\n",
        "\n",
        "# Chia dữ liệu thành tập huấn luyện và tập kiểm tra\n",
        "X_train, X_test, y_train, y_test = train_test_split(X, y, test_size=0.2, random_state=42)\n",
        "\n",
        "# Chuyển đổi sang tensor\n",
        "X_train = torch.tensor(X_train, dtype=torch.float32)\n",
        "y_train = torch.tensor(y_train, dtype=torch.float32)\n",
        "X_test = torch.tensor(X_test, dtype=torch.float32)\n",
        "y_test = torch.tensor(y_test, dtype=torch.float32)\n",
        "\n",
        "# Định nghĩa mô hình ANN với 2 lớp ẩn\n",
        "class ANN(nn.Module):\n",
        "    def __init__(self):\n",
        "        super(ANN, self).__init__()\n",
        "        self.layer1 = nn.Linear(2, 8)  # Lớp ẩn 1 (8 nút)\n",
        "        self.relu1 = nn.ReLU()\n",
        "\n",
        "        self.layer2 = nn.Linear(8, 1)  # Lớp đầu ra (1 nút)\n",
        "        self.sigmoid = nn.Sigmoid()\n",
        "\n",
        "    def forward(self, x):\n",
        "        x = self.layer1(x)\n",
        "        x = self.relu1(x)\n",
        "\n",
        "        x = self.layer2(x)\n",
        "        x = self.sigmoid(x)\n",
        "        return x\n",
        "\n",
        "# Khởi tạo mô hình\n",
        "model = ANN()\n",
        "\n",
        "# Định nghĩa hàm mất mát và bộ tối ưu hóa\n",
        "criterion = nn.BCELoss()\n",
        "optimizer = optim.Adam(model.parameters(), lr=0.01)\n",
        "\n",
        "# Huấn luyện mô hình\n",
        "epochs = 100\n",
        "losses = []\n",
        "for epoch in range(epochs):\n",
        "    model.train()\n",
        "    optimizer.zero_grad()\n",
        "    outputs = model(X_train)\n",
        "    loss = criterion(outputs, y_train)\n",
        "    loss.backward()\n",
        "    optimizer.step()\n",
        "    losses.append(loss.item())\n",
        "\n",
        "    if (epoch + 1) % 20 == 0:\n",
        "        print(f\"Epoch [{epoch+1}/{epochs}], Loss: {loss.item():.4f}\")\n",
        "\n",
        "# Đánh giá mô hình trên tập kiểm tra\n",
        "model.eval()\n",
        "with torch.no_grad():\n",
        "    y_pred = model(X_test)\n",
        "    y_pred_class = (y_pred >= 0.5).float()\n",
        "    accuracy = accuracy_score(y_test, y_pred_class)\n",
        "    print(f\"Loss cuối cùng: {loss.item():.4f}\")\n",
        "    print(f\"Độ chính xác trên tập kiểm tra: {accuracy:.4f}\")\n"
      ],
      "metadata": {
        "colab": {
          "base_uri": "https://localhost:8080/"
        },
        "id": "AgMVao3Y9Sqt",
        "outputId": "40327a38-2cd0-4102-de46-294093b2486a"
      },
      "execution_count": 26,
      "outputs": [
        {
          "output_type": "stream",
          "name": "stdout",
          "text": [
            "Epoch [20/100], Loss: 0.6081\n",
            "Epoch [40/100], Loss: 0.5022\n",
            "Epoch [60/100], Loss: 0.3883\n",
            "Epoch [80/100], Loss: 0.2960\n",
            "Epoch [100/100], Loss: 0.2329\n",
            "Loss cuối cùng: 0.2329\n",
            "Độ chính xác trên tập kiểm tra: 0.9700\n"
          ]
        }
      ]
    },
    {
      "cell_type": "code",
      "source": [
        "import numpy as np\n",
        "import torch\n",
        "import torch.nn as nn\n",
        "import torch.optim as optim\n",
        "from sklearn.model_selection import train_test_split\n",
        "from sklearn.metrics import accuracy_score\n",
        "import matplotlib.pyplot as plt\n",
        "\n",
        "# Giả lập dữ liệu ngẫu nhiên\n",
        "np.random.seed(42)\n",
        "X = np.random.rand(1000, 2)\n",
        "y = (X[:, 0] + X[:, 1] > 1).astype(np.float32).reshape(-1, 1)\n",
        "\n",
        "# Chia dữ liệu thành tập huấn luyện và tập kiểm tra\n",
        "X_train, X_test, y_train, y_test = train_test_split(X, y, test_size=0.2, random_state=42)\n",
        "\n",
        "# Chuyển đổi sang tensor\n",
        "X_train = torch.tensor(X_train, dtype=torch.float32)\n",
        "y_train = torch.tensor(y_train, dtype=torch.float32)\n",
        "X_test = torch.tensor(X_test, dtype=torch.float32)\n",
        "y_test = torch.tensor(y_test, dtype=torch.float32)\n",
        "\n",
        "# Định nghĩa mô hình ANN với 2 lớp ẩn\n",
        "class ANN(nn.Module):\n",
        "    def __init__(self):\n",
        "        super(ANN, self).__init__()\n",
        "        self.layer1 = nn.Linear(2, 4)  # Lớp ẩn 1 (8 nút)\n",
        "        self.relu1 = nn.ReLU()\n",
        "\n",
        "        self.layer2 = nn.Linear(4, 1)  # Lớp đầu ra (1 nút)\n",
        "        self.sigmoid = nn.Sigmoid()\n",
        "\n",
        "    def forward(self, x):\n",
        "        x = self.layer1(x)\n",
        "        x = self.relu1(x)\n",
        "\n",
        "        x = self.layer2(x)\n",
        "        x = self.sigmoid(x)\n",
        "        return x\n",
        "\n",
        "# Khởi tạo mô hình\n",
        "model = ANN()\n",
        "\n",
        "# Định nghĩa hàm mất mát và bộ tối ưu hóa\n",
        "criterion = nn.BCELoss()\n",
        "optimizer = optim.Adam(model.parameters(), lr=0.01)\n",
        "\n",
        "# Huấn luyện mô hình\n",
        "epochs = 100\n",
        "losses = []\n",
        "for epoch in range(epochs):\n",
        "    model.train()\n",
        "    optimizer.zero_grad()\n",
        "    outputs = model(X_train)\n",
        "    loss = criterion(outputs, y_train)\n",
        "    loss.backward()\n",
        "    optimizer.step()\n",
        "    losses.append(loss.item())\n",
        "\n",
        "    if (epoch + 1) % 20 == 0:\n",
        "        print(f\"Epoch [{epoch+1}/{epochs}], Loss: {loss.item():.4f}\")\n",
        "\n",
        "# Đánh giá mô hình trên tập kiểm tra\n",
        "model.eval()\n",
        "with torch.no_grad():\n",
        "    y_pred = model(X_test)\n",
        "    y_pred_class = (y_pred >= 0.5).float()\n",
        "    accuracy = accuracy_score(y_test, y_pred_class)\n",
        "    print(f\"Loss cuối cùng: {loss.item():.4f}\")\n",
        "    print(f\"Độ chính xác trên tập kiểm tra: {accuracy:.4f}\")\n"
      ],
      "metadata": {
        "colab": {
          "base_uri": "https://localhost:8080/"
        },
        "id": "L75LTGJd-Rx7",
        "outputId": "37884403-9b7b-42c8-d2a2-2ca536655088"
      },
      "execution_count": 27,
      "outputs": [
        {
          "output_type": "stream",
          "name": "stdout",
          "text": [
            "Epoch [20/100], Loss: 0.6598\n",
            "Epoch [40/100], Loss: 0.6063\n",
            "Epoch [60/100], Loss: 0.5334\n",
            "Epoch [80/100], Loss: 0.4584\n",
            "Epoch [100/100], Loss: 0.3914\n",
            "Loss cuối cùng: 0.3914\n",
            "Độ chính xác trên tập kiểm tra: 0.8750\n"
          ]
        }
      ]
    },
    {
      "cell_type": "markdown",
      "source": [
        "###Kết luận: Cả 3 trường hợp(4 nút, 8 nút, 8+6 nút đều có sự chênh lệch mất mát một cách đáng kể.\n",
        "\n",
        "- Chạy 3 lần cho thấy độ chính xác cuối cùng về độ cải thiện lúc có lúc không, bởi vì giá trị ở mỗi con số đầu vào và đầu ra càng nhiều độ chính xác có lúc lên thì sẽ có lúc xuống\n"
      ],
      "metadata": {
        "id": "4uZeoav09x2C"
      }
    },
    {
      "cell_type": "markdown",
      "source": [
        "## Phần 2: Thử nghiệm với hàm mất mát và tối ưu hóa\n",
        "### Yêu cầu\n",
        "1. **Dùng BCEWithLogitsLoss thay cho BCELoss**:  \n",
        "   - Thay `nn.BCELoss()` bằng `nn.BCEWithLogitsLoss()`.  \n",
        "   - Xóa hàm Sigmoid khỏi lớp đầu ra của mô hình (vì `BCEWithLogitsLoss` tự xử lý).  \n",
        "   - Huấn luyện lại mô hình với cấu trúc ban đầu (2-4-1, 100 epochs).  \n",
        "   - Ghi lại mất mát cuối cùng và độ chính xác.\n",
        "\n",
        "2. **Thay Adam bằng SGD**:  \n",
        "   - Dùng lại cấu trúc ban đầu (2-4-1) với `nn.BCELoss()`.  \n",
        "   - Thay `optim.Adam` bằng `optim.SGD` với `lr=0.01`.  \n",
        "   - Huấn luyện lại (100 epochs).  \n",
        "   - Ghi lại mất mát cuối cùng và độ chính xác.\n",
        "\n",
        "3. **Câu hỏi**:  \n",
        "   - So sánh kết quả:  \n",
        "     - `BCEWithLogitsLoss` có khác gì so với `BCELoss` về mất mát và độ chính xác? Tại sao?  \n",
        "     - `SGD` so với `Adam`: Mất mát giảm nhanh hơn hay chậm hơn? Độ chính xác thay đổi ra sao?  \n",
        "   - Viết câu trả lời trong ô Markdown."
      ],
      "metadata": {
        "id": "TcctFG00AR7T"
      }
    },
    {
      "cell_type": "code",
      "source": [
        "import numpy as np\n",
        "import torch\n",
        "import torch.nn as nn\n",
        "import torch.optim as optim\n",
        "from sklearn.model_selection import train_test_split\n",
        "from sklearn.metrics import accuracy_score\n",
        "import matplotlib.pyplot as plt\n",
        "\n",
        "# Giả lập dữ liệu ngẫu nhiên\n",
        "np.random.seed(42)\n",
        "X = np.random.rand(1000, 2)\n",
        "y = (X[:, 0] + X[:, 1] > 1).astype(np.float32).reshape(-1, 1)\n",
        "\n",
        "# Chia dữ liệu thành tập huấn luyện và tập kiểm tra\n",
        "X_train, X_test, y_train, y_test = train_test_split(X, y, test_size=0.2, random_state=42)\n",
        "\n",
        "# Chuyển đổi sang tensor\n",
        "X_train = torch.tensor(X_train, dtype=torch.float32)\n",
        "y_train = torch.tensor(y_train, dtype=torch.float32)\n",
        "X_test = torch.tensor(X_test, dtype=torch.float32)\n",
        "y_test = torch.tensor(y_test, dtype=torch.float32)\n",
        "\n",
        "# Định nghĩa mô hình ANN với 2 lớp ẩn\n",
        "class ANN(nn.Module):\n",
        "    def __init__(self):\n",
        "        super(ANN, self).__init__()\n",
        "        self.layer1 = nn.Linear(2, 4)  # Lớp ẩn 1 (8 nút)\n",
        "        self.relu1 = nn.ReLU()\n",
        "\n",
        "        self.layer2 = nn.Linear(4, 1)  # Lớp đầu ra (1 nút)\n",
        "\n",
        "    def forward(self, x):\n",
        "        x = self.layer1(x)\n",
        "        x = self.relu1(x)\n",
        "\n",
        "        x = self.layer2(x)\n",
        "\n",
        "        return x\n",
        "\n",
        "# Khởi tạo mô hình\n",
        "model = ANN()\n",
        "\n",
        "# Định nghĩa hàm mất mát và bộ tối ưu hóa\n",
        "criterion = nn.BCEWithLogitsLoss()\n",
        "optimizer = optim.Adam(model.parameters(), lr=0.01)\n",
        "\n",
        "# Huấn luyện mô hình\n",
        "epochs = 100\n",
        "losses = []\n",
        "for epoch in range(epochs):\n",
        "    model.train()\n",
        "    optimizer.zero_grad()\n",
        "    outputs = model(X_train)\n",
        "    loss = criterion(outputs, y_train)\n",
        "    loss.backward()\n",
        "    optimizer.step()\n",
        "    losses.append(loss.item())\n",
        "\n",
        "    if (epoch + 1) % 20 == 0:\n",
        "        print(f\"Epoch [{epoch+1}/{epochs}], Loss: {loss.item():.4f}\")\n",
        "\n",
        "# Đánh giá mô hình trên tập kiểm tra\n",
        "model.eval()\n",
        "with torch.no_grad():\n",
        "    y_pred = model(X_test)\n",
        "    y_pred_class = (y_pred >= 0.5).float()\n",
        "    accuracy = accuracy_score(y_test, y_pred_class)\n",
        "    print(f\"Loss cuối cùng: {loss.item():.4f}\")\n",
        "    print(f\"Độ chính xác trên tập kiểm tra: {accuracy:.4f}\")\n"
      ],
      "metadata": {
        "colab": {
          "base_uri": "https://localhost:8080/"
        },
        "id": "DyFpz0UXCxwV",
        "outputId": "0f9f2926-8b9e-4fe2-a7d5-0b699b9a53b9"
      },
      "execution_count": 29,
      "outputs": [
        {
          "output_type": "stream",
          "name": "stdout",
          "text": [
            "Epoch [20/100], Loss: 0.6343\n",
            "Epoch [40/100], Loss: 0.5769\n",
            "Epoch [60/100], Loss: 0.4954\n",
            "Epoch [80/100], Loss: 0.4106\n",
            "Epoch [100/100], Loss: 0.3383\n",
            "Loss cuối cùng: 0.3383\n",
            "Độ chính xác trên tập kiểm tra: 0.9150\n"
          ]
        }
      ]
    },
    {
      "cell_type": "markdown",
      "source": [
        "###Mất mát cuối cùng: 0.3383\n",
        "  Độ chính xác: 0.9150"
      ],
      "metadata": {
        "id": "6glG-bD1D1K6"
      }
    },
    {
      "cell_type": "code",
      "source": [
        "import numpy as np\n",
        "import torch\n",
        "import torch.nn as nn\n",
        "import torch.optim as optim\n",
        "from sklearn.model_selection import train_test_split\n",
        "from sklearn.metrics import accuracy_score\n",
        "import matplotlib.pyplot as plt\n",
        "\n",
        "# Giả lập dữ liệu ngẫu nhiên\n",
        "np.random.seed(42)\n",
        "X = np.random.rand(1000, 2)\n",
        "y = (X[:, 0] + X[:, 1] > 1).astype(np.float32).reshape(-1, 1)\n",
        "\n",
        "# Chia dữ liệu thành tập huấn luyện và tập kiểm tra\n",
        "X_train, X_test, y_train, y_test = train_test_split(X, y, test_size=0.2, random_state=42)\n",
        "\n",
        "# Chuyển đổi sang tensor\n",
        "X_train = torch.tensor(X_train, dtype=torch.float32)\n",
        "y_train = torch.tensor(y_train, dtype=torch.float32)\n",
        "X_test = torch.tensor(X_test, dtype=torch.float32)\n",
        "y_test = torch.tensor(y_test, dtype=torch.float32)\n",
        "\n",
        "# Định nghĩa mô hình ANN với 2 lớp ẩn\n",
        "class ANN(nn.Module):\n",
        "    def __init__(self):\n",
        "        super(ANN, self).__init__()\n",
        "        self.layer1 = nn.Linear(2, 4)  # Lớp ẩn 1 (8 nút)\n",
        "        self.relu1 = nn.ReLU()\n",
        "\n",
        "        self.layer2 = nn.Linear(4, 1)  # Lớp đầu ra (1 nút)\n",
        "        self.sigmoid = nn.Sigmoid()\n",
        "    def forward(self, x):\n",
        "        x = self.layer1(x)\n",
        "        x = self.relu1(x)\n",
        "\n",
        "        x = self.layer2(x)\n",
        "        x= self.sigmoid(x)\n",
        "        return x\n",
        "\n",
        "# Khởi tạo mô hình\n",
        "model = ANN()\n",
        "\n",
        "# Định nghĩa hàm mất mát và bộ tối ưu hóa\n",
        "criterion = nn.BCELoss()\n",
        "optimizer = optim.SGD(model.parameters(), lr=0.01)\n",
        "\n",
        "# Huấn luyện mô hình\n",
        "epochs = 100\n",
        "losses = []\n",
        "for epoch in range(epochs):\n",
        "    model.train()\n",
        "    optimizer.zero_grad()\n",
        "    outputs = model(X_train)\n",
        "    loss = criterion(outputs, y_train)\n",
        "    loss.backward()\n",
        "    optimizer.step()\n",
        "    losses.append(loss.item())\n",
        "\n",
        "    if (epoch + 1) % 20 == 0:\n",
        "        print(f\"Epoch [{epoch+1}/{epochs}], Loss: {loss.item():.4f}\")\n",
        "\n",
        "# Đánh giá mô hình trên tập kiểm tra\n",
        "model.eval()\n",
        "with torch.no_grad():\n",
        "    y_pred = model(X_test)\n",
        "    y_pred_class = (y_pred >= 0.5).float()\n",
        "    accuracy = accuracy_score(y_test, y_pred_class)\n",
        "    print(f\"Loss cuối cùng: {loss.item():.4f}\")\n",
        "    print(f\"Độ chính xác trên tập kiểm tra: {accuracy:.4f}\")"
      ],
      "metadata": {
        "colab": {
          "base_uri": "https://localhost:8080/"
        },
        "id": "pt2gukwNEIIS",
        "outputId": "2f9e38c3-011d-41d9-da6e-c355b1187e82"
      },
      "execution_count": 32,
      "outputs": [
        {
          "output_type": "stream",
          "name": "stdout",
          "text": [
            "Epoch [20/100], Loss: 0.7131\n",
            "Epoch [40/100], Loss: 0.7060\n",
            "Epoch [60/100], Loss: 0.7001\n",
            "Epoch [80/100], Loss: 0.6951\n",
            "Epoch [100/100], Loss: 0.6910\n",
            "Loss cuối cùng: 0.6910\n",
            "Độ chính xác trên tập kiểm tra: 0.5300\n"
          ]
        }
      ]
    },
    {
      "cell_type": "markdown",
      "source": [
        "###Loss cuối cùng: 0.6910\n",
        "Độ chính xác trên tập kiểm tra: 0.5300"
      ],
      "metadata": {
        "id": "_lDqhiuIEsQ0"
      }
    },
    {
      "cell_type": "markdown",
      "source": [
        "###So sánh kết quả:\n",
        "BCEWithLogitsLoss có khác gì so với BCELoss về mất mát và độ chính xác? Tại sao?\n",
        "SGD so với Adam: Mất mát giảm nhanh hơn hay chậm hơn? Độ chính xác thay đổi ra sao?\n",
        "Viết câu trả lời trong ô Markdown."
      ],
      "metadata": {
        "id": "waJFRSkRFEIh"
      }
    },
    {
      "cell_type": "markdown",
      "source": [
        "Về mất mát giữa BCEWithLogitsLoss và BCELoss thì BCELoss chạy mất mát cao hơn, mất mát giảm nhanh hơn, độ chính xác giảm đi đáng kể"
      ],
      "metadata": {
        "id": "dvFuCOy9FRvA"
      }
    }
  ]
}